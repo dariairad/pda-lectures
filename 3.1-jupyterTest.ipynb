{
 "cells": [
  {
   "cell_type": "code",
   "execution_count": 1,
   "id": "8218af78",
   "metadata": {},
   "outputs": [],
   "source": [
    "c = 5 + 5"
   ]
  },
  {
   "cell_type": "code",
   "execution_count": 2,
   "id": "a8307a5a",
   "metadata": {},
   "outputs": [
    {
     "name": "stdout",
     "output_type": "stream",
     "text": [
      "10\n"
     ]
    }
   ],
   "source": [
    "print(c)"
   ]
  },
  {
   "cell_type": "markdown",
   "id": "ebf7c8ab",
   "metadata": {},
   "source": [
    "### This is my notebook\n",
    "\n",
    "# Here's a big heading\n",
    "\n",
    "- List Item 1 \n",
    "- List Item 2"
   ]
  },
  {
   "cell_type": "code",
   "execution_count": 3,
   "id": "3a7a9fda",
   "metadata": {},
   "outputs": [],
   "source": [
    "import numpy as np"
   ]
  },
  {
   "cell_type": "code",
   "execution_count": 5,
   "id": "9fc6a4b8",
   "metadata": {},
   "outputs": [
    {
     "data": {
      "text/plain": [
       "3.364979772297355"
      ]
     },
     "execution_count": 5,
     "metadata": {},
     "output_type": "execute_result"
    }
   ],
   "source": [
    "np.random.uniform(0.0, 5.0)"
   ]
  },
  {
   "cell_type": "code",
   "execution_count": null,
   "id": "688c202f",
   "metadata": {},
   "outputs": [],
   "source": []
  }
 ],
 "metadata": {
  "kernelspec": {
   "display_name": "Python 3 (ipykernel)",
   "language": "python",
   "name": "python3"
  },
  "language_info": {
   "codemirror_mode": {
    "name": "ipython",
    "version": 3
   },
   "file_extension": ".py",
   "mimetype": "text/x-python",
   "name": "python",
   "nbconvert_exporter": "python",
   "pygments_lexer": "ipython3",
   "version": "3.9.13"
  }
 },
 "nbformat": 4,
 "nbformat_minor": 5
}
